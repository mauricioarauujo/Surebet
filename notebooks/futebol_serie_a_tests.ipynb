{
 "cells": [
  {
   "cell_type": "code",
   "execution_count": 2,
   "id": "d8e95a28-f6a6-43c7-83ac-7fe26ff0fb02",
   "metadata": {},
   "outputs": [],
   "source": [
    "import pandas as pd\n",
    "import numpy as np"
   ]
  },
  {
   "cell_type": "code",
   "execution_count": 1,
   "id": "aa0d40ff-6f23-406b-928d-701cec190a52",
   "metadata": {},
   "outputs": [
    {
     "data": {
      "text/html": [
       "<pre style=\"white-space:pre;overflow-x:auto;line-height:normal;font-family:Menlo,'DejaVu Sans Mono',consolas,'Courier New',monospace\"><span style=\"font-weight: bold\">[</span><span style=\"color: #008000; text-decoration-color: #008000\">'br_serie_a_odds_df'</span>, <span style=\"color: #008000; text-decoration-color: #008000\">'br_serie_a_probs_df'</span>, <span style=\"color: #008000; text-decoration-color: #008000\">'parameters'</span><span style=\"font-weight: bold\">]</span>\n",
       "</pre>\n"
      ],
      "text/plain": [
       "\u001b[1m[\u001b[0m\u001b[32m'br_serie_a_odds_df'\u001b[0m, \u001b[32m'br_serie_a_probs_df'\u001b[0m, \u001b[32m'parameters'\u001b[0m\u001b[1m]\u001b[0m\n"
      ]
     },
     "metadata": {},
     "output_type": "display_data"
    }
   ],
   "source": [
    "catalog.list()"
   ]
  },
  {
   "cell_type": "code",
   "execution_count": 2,
   "id": "34901e32-7f1e-4214-8962-bb2cc5d06dbd",
   "metadata": {},
   "outputs": [
    {
     "data": {
      "text/html": [
       "<pre style=\"white-space:pre;overflow-x:auto;line-height:normal;font-family:Menlo,'DejaVu Sans Mono',consolas,'Courier New',monospace\"><span style=\"color: #7fbfbf; text-decoration-color: #7fbfbf\">[10/31/22 12:04:26] </span><span style=\"color: #000080; text-decoration-color: #000080\">INFO    </span> Loading data from <span style=\"color: #008000; text-decoration-color: #008000\">'br_serie_a_odds_df'</span> <span style=\"font-weight: bold\">(</span>ParquetDataSet<span style=\"font-weight: bold\">)</span><span style=\"color: #808000; text-decoration-color: #808000\">...</span>         <a href=\"file://C:\\Users\\Usuario\\anaconda3\\envs\\surebet\\lib\\site-packages\\kedro\\io\\data_catalog.py\" target=\"_blank\"><span style=\"color: #7f7f7f; text-decoration-color: #7f7f7f\">data_catalog.py</span></a><span style=\"color: #7f7f7f; text-decoration-color: #7f7f7f\">:</span><a href=\"file://C:\\Users\\Usuario\\anaconda3\\envs\\surebet\\lib\\site-packages\\kedro\\io\\data_catalog.py#343\" target=\"_blank\"><span style=\"color: #7f7f7f; text-decoration-color: #7f7f7f\">343</span></a>\n",
       "</pre>\n"
      ],
      "text/plain": [
       "\u001b[2;36m[10/31/22 12:04:26]\u001b[0m\u001b[2;36m \u001b[0m\u001b[34mINFO    \u001b[0m Loading data from \u001b[32m'br_serie_a_odds_df'\u001b[0m \u001b[1m(\u001b[0mParquetDataSet\u001b[1m)\u001b[0m\u001b[33m...\u001b[0m         \u001b]8;id=29366;file://C:\\Users\\Usuario\\anaconda3\\envs\\surebet\\lib\\site-packages\\kedro\\io\\data_catalog.py\u001b\\\u001b[2mdata_catalog.py\u001b[0m\u001b]8;;\u001b\\\u001b[2m:\u001b[0m\u001b]8;id=42740;file://C:\\Users\\Usuario\\anaconda3\\envs\\surebet\\lib\\site-packages\\kedro\\io\\data_catalog.py#343\u001b\\\u001b[2m343\u001b[0m\u001b]8;;\u001b\\\n"
      ]
     },
     "metadata": {},
     "output_type": "display_data"
    }
   ],
   "source": [
    "br_serie_a_odds_df = catalog.load('br_serie_a_odds_df')"
   ]
  },
  {
   "cell_type": "code",
   "execution_count": 12,
   "id": "067dda67-31aa-4894-a568-7bf5159b08cd",
   "metadata": {},
   "outputs": [],
   "source": [
    "game_ids = br_serie_a_odds_df.value_counts('game_id')"
   ]
  }
 ],
 "metadata": {
  "kernelspec": {
   "display_name": "Kedro (surebet)",
   "language": "python",
   "name": "kedro_surebet"
  },
  "language_info": {
   "codemirror_mode": {
    "name": "ipython",
    "version": 3
   },
   "file_extension": ".py",
   "mimetype": "text/x-python",
   "name": "python",
   "nbconvert_exporter": "python",
   "pygments_lexer": "ipython3",
   "version": "3.9.0"
  }
 },
 "nbformat": 4,
 "nbformat_minor": 5
}
